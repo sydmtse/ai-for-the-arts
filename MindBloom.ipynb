{
 "cells": [
  {
   "cell_type": "markdown",
   "id": "07648ffb",
   "metadata": {},
   "source": [
    "# Part 4: **Creative Design**\n",
    "\n",
    "# 🌼 **MindBloom**: \n",
    "## A Gentle Mental Health Companion for Teens & Young Adults\n",
    "\n",
    "__________________"
   ]
  },
  {
   "cell_type": "markdown",
   "id": "26c26516",
   "metadata": {},
   "source": [
    "## **Introduction**:\n",
    "\n",
    "**Overview**\n",
    "With rising mental health issues and the strain on professional care, there becomes a clear need for an accessible tool to help young people navigate the stresses and anxieties of modern society. \n",
    "\n",
    "**Proposed Solution**\n",
    "A supportive check-in app powered by a large language model (LLM), designed to help users reflect on their emotions and feel heard - without replacing human therapists.\n",
    "\n",
    "**Target Audience**\n",
    "Our user base would include those ages 13-25, tech-literate, mental health-curious, or those in need of regular self-check-ins. \n",
    "\n",
    "**Inspiration**\n",
    "This project is a continuim of my Literature Review on AI in mental health care for youth, and the greater literature that informed the review. Moreover, the concept and design are influenced by menstral-cycle tracking apps like Flo which offer personalized, stigma-free insights for its users. \n"
   ]
  },
  {
   "cell_type": "markdown",
   "id": "03538ebc",
   "metadata": {},
   "source": [
    "## **Applitcation Concept**\n",
    "\n",
    "### Outline of the App:\n",
    "**A daily/weekly mood and reflection companion that uses a GPT-like model to**:\n",
    "- Ask simple, open-ended questions.\n",
    "- Offer AI-generated responses that reflect, support, or suggest coping tools.\n",
    "- Track mood over time.\n",
    "- Provide creative prompts, guided journaling, or affirmations.\n",
    "- Direct users to appropriate resources (without diagnosing)."
   ]
  },
  {
   "cell_type": "markdown",
   "id": "2ae573f7",
   "metadata": {},
   "source": [
    "## **Interaction Design**\n",
    "\n",
    "### Users\n",
    "- **Primary user**: Teen or young adult in need of emotional check-ins\n",
    "- **Secondary stakeholders**: Parents/Guardians (with consdieration for data privacy), mental health professionals (if integrating referrals).\n",
    "\n",
    "### AI agent\n",
    "- One GPT-based LLM trained/fine-tuned for:\n",
    "    - Empathetic tone.\n",
    "    - Age-appropriate responses.\n",
    "    - Ethical boundaries (e.g., avoids medical claims, gives disclaimers).\n",
    "\n",
    "### Other useful tools\n",
    "- Calendar integration for streaks and journaling\n",
    "- Visual mood tracker\n",
    "- Resource recommendation engine\n",
    "\n",
    "### Example Interaction Flow (text-based)\n",
    "🧍 **User opens app**:\n",
    "\n",
    "🌸 *Hi! How are you feeling today?* \n",
    "\n",
    "[Mood slider or emoji scale + textbox]\n",
    "\n",
    "🧍 **User inputs**\n",
    "\n",
    "🌸 *Thanks for sharing that. Want to talk a bit more about why you’re feeling this way?*\n",
    "\n",
    "🧍 **User responds:** “I’ve just been overwhelmed with school stuff.”\n",
    "\n",
    "🌸 *That sounds tough. Would it help to talk through one thing at a time? Or I could suggest a 5-minute breathing break.*\n",
    "\n",
    "🧍 **User picks one**\n",
    "\n",
    "\n",
    "[LLM (Bloom) suggests writing a short reflection or journaling]\n",
    "\n",
    "🌸 Bloom logs entry, offers mood summary or encouragement. "
   ]
  },
  {
   "cell_type": "markdown",
   "id": "de0a65b1",
   "metadata": {},
   "source": [
    "## **Technical**\n",
    "\n",
    "The app's functionality could rely on light-weight Ai-driven techniques to process and respond to user inputs in a personalized and emotionally intelligent manner. A key feature being **mood extraction and classification** from jounral entries or check-ins. \n",
    "\n",
    "### Text Processing\n",
    "To prepare text data for analysis, using **tokenizatio** and **normalization** techniques through Python libraries like NumPy. This would be employed to:\n",
    "- Tokenize the user's input into sentences and words.\n",
    "- Normalize by removing punctuation and converting text to lowercase.\n",
    "- Remove stop words and perform stemming or lemmatization (grouping) if needed.\n",
    "\n",
    "**For example**:"
   ]
  },
  {
   "cell_type": "code",
   "execution_count": null,
   "id": "ca9b75fa",
   "metadata": {},
   "outputs": [],
   "source": [
    "import nltk\n",
    "from nltk.tokenize import word_tokenize # For splitting text into individual words (tokens)\n",
    "from nltk.corpus import stopwords # For accessing a list of common stopwords (e.g. \"the\", \"and\")\n",
    "\n",
    "# Example user input (free-text check-in)\n",
    "text = \"I feel really overwhelmed and anxious today.\"\n",
    "\n",
    "# Convert text to lowercase and tokenize it into individual words\n",
    "tokens = word_tokenize(text.lower()) \n",
    "\n",
    "# Filter tokens: keep only alphabetic words and remove common stopwords\n",
    "filtered = [word for word in tokens if word.isalpha() and word not in stopwords.words('english')]\n",
    "\n",
    "# Result: ['feel', 'really', 'overwhelmed', 'anxious', 'today']\n",
    "# This excludes punctuation, numbers, and common words that don't convey mood\n",
    "\n",
    "\n",
    "\n",
    "# Citation:\n",
    "# Bird, S., Klein, E. and Loper, E., 2009. *Natural Language Processing with Python*. O’Reilly Media. \n",
    "# NLTK Project: https://www.nltk.org/"
   ]
  },
  {
   "cell_type": "markdown",
   "id": "2feeba0f",
   "metadata": {},
   "source": [
    "### Mood Categorization\n",
    "Once tokenized, inputs can be categorized into emotion labels (e.g. \"overwhelmed\", \"stressed\", \"calm\") using either:\n",
    "- Rule-based matching \n",
    "- Pre-training models \n",
    "\n",
    "These emotional tags help guide the tone and pacing of the AI response. For example:\n",
    "\n",
    "- If mood = 😫 overwhelmed : AI replies are slower, gentler, and provide grounding tips.\n",
    "\n",
    "- If mood = 😑 bored : AI could suggest engaging activities or journaling prompts.\n",
    "\n",
    "- If mood = 😊 happy : AI could reinforce positive routines and offer gratitude reflection tools."
   ]
  },
  {
   "cell_type": "markdown",
   "id": "90828fcc",
   "metadata": {},
   "source": [
    "## **Value & Purpose**\n",
    "- **Learning**: Encourages emotional literacy, builds self-awareness.\n",
    "\n",
    "- **Engagement**: Conversational and gamified check-ins; streaks, mood flowers, badges.\n",
    "\n",
    "- **Inclusion**: Uses inclusive, age-relevant language; avoids gendered advice; reflects diverse emotional experiences."
   ]
  },
  {
   "cell_type": "markdown",
   "id": "1fc24950",
   "metadata": {},
   "source": [
    "## **Mockups**"
   ]
  },
  {
   "cell_type": "code",
   "execution_count": 2,
   "id": "8126b42f",
   "metadata": {},
   "outputs": [
    {
     "data": {
      "text/html": [
       "\n",
       "<div style=\"display: flex; justify-content: space-between;\">\n",
       "    <img src=\"bloom.png\" style=\"width: 45%;\"/>\n",
       "    <img src=\"convo.png\" style=\"width: 45%;\"/>\n",
       "</div>\n"
      ],
      "text/plain": [
       "<IPython.core.display.HTML object>"
      ]
     },
     "metadata": {},
     "output_type": "display_data"
    }
   ],
   "source": [
    "from IPython.display import display, HTML\n",
    "\n",
    "# Provide the paths to your images (local or URL)\n",
    "img1 = \"bloom.png\"  # App logo design and mood scale\n",
    "img2 = \"convo.png\"  # Mockup of phone conversation\n",
    "\n",
    "# HTML to display the images side by side\n",
    "html_code = f\"\"\"\n",
    "<div style=\"display: flex; justify-content: space-between;\">\n",
    "    <img src=\"{img1}\" style=\"width: 45%;\"/>\n",
    "    <img src=\"{img2}\" style=\"width: 45%;\"/>\n",
    "</div>\n",
    "\"\"\"\n",
    "\n",
    "# Display the images\n",
    "display(HTML(html_code))"
   ]
  },
  {
   "cell_type": "markdown",
   "id": "de971a60",
   "metadata": {},
   "source": [
    "## **Critical Reflection**\n",
    "\n",
    "### Positive Implications:\n",
    "The proposed mental health check-in app presents several positive implications for supporting individuals' well-being, particularly among teens and young adults. First and foremost, it provides a low-pressure, private way to manage mental health. This is crucial in creating a space where individuals feel comfortable acknowledging and reflecting on their emotions without feat of judgement or stigma. Studies have shown that individuals, especially young people, are more likely to engage in mental health practices if they are percieved as confidential (Fitzpatrick et al., 2020).\n",
    "Additionally, the app reduces stigma by making emotional check-ins informal and part of everyday life. By integrating mental health tools seamlessly into daily routines, the app can encourage a cultural shift where seeking mental health support becomes as routine as checking the weather app in determining how to dress that day, or reading the news to stay up-to-date on global events. It's accessibility supports existing efforts to de-stigmatize mental health, particularly among marginalized groups who are less likely to seek traditional therapy (Corrigan et al., 2014). Moreover, the app could also encourage help-seeking behaviour, offering suggestions or referrals to professional resources when necessary, which could ultimately bridge gaps for those who may be hestitant to access formal support (Mohr et al., 2017).\n",
    "\n",
    "### Potential Risks: \n",
    "However, the app is not without its potential drawbacks. The main concern is the risk of users relying on the app instead of seeking real, professional help, especially in more extreme circumstances. While the app could serve as an excellent supplementary tool for managing mental health, it should not replace human therapists or emergency services. Depending solely on AI-driven check-ins could delay individuals from seeking necessary interventions, particularly in cases of more severe mental health crises (Bickmore et al., 2018). As well, it would be challenging for the app to flag emergencies effectively without overstepping. Identifying critical cases, such as suicidal ideation, requires a nuanced approach, and AI models must be carefully trained to handle these situations appropriately without either overreacting or underreacting.\n",
    "Furthermore, there are inherent privacy concerns when dealing with sensitive emotional data. The app would need comprehensive data protection policies to ensure that users' personal and emotional information is kept confidential and secure, especially in light of increasing concerns over data breaches and misuse (Crawford & Paglen, 2021).\n",
    "\n",
    "### Ethics & Mitigation:\n",
    "To mitigate these risks, several ethical considerations and safeguards should be implemented. The app should display clear disclaimers that make it clear to users that the app is not a therapist and cannot replace professional help. Transparency about the capabilities and limitations of the app is critical in setting proper expectations.\n",
    "On-device processing should be prioritized wherever possible to ensure user data is not sent to the cloud, reducing the risk of data leaks or breaches. This could provide a higher level of privacy and control for users, who may feel uncomfortable sharing their personal information with external servers. Additionally, anonymous usage should be an option, with minimal or no data storage, to protect users’ identities and prevent data from being linked to specific individuals.\n",
    "For emergency scenarios, the app should include manual or automated escalation paths. This could include a direct option to contact a mental health professional or emergency services available if he app detects serious mental health risks, such as suicidal ideation. It is vital to strike a balance between providing assistance and respecting user autonomy. Lastly, content moderation is crucial for ensuring that the app responds appropriately to harmful ideation. By implementing fine-tuned models or adding filtering layers to detect harmful language, the app can ensure that it provides helpful, sensitive support without inadvertently exacerbating distress (Anastasopoulos et al., 2021). \n"
   ]
  },
  {
   "cell_type": "markdown",
   "id": "f2f61022",
   "metadata": {},
   "source": [
    "### **References**\n",
    "Anastasopoulos, A., Dastin, J. & Domingues, A., 2021. Addressing the Ethics of AI in Mental Health: Safety, Privacy, and Responsiveness. Journal of Artificial Intelligence and Ethics, 6(3), pp. 45-67.\n",
    "\n",
    "Bickmore, T. W., Schulman, D. & Yin, L., 2018. Engagement vs. Risk in AI-based Mental Health Interventions. Journal of the American Medical Informatics Association, 25(6), pp. 709-717.\n",
    "\n",
    "Corrigan, P. W., Druss, B. G. & Perlick, D. A., 2014. The Impact of Mental Illness Stigma on Seeking and Participating in Mental Health Care. Psychological Science in the Public Interest, 15(2), pp. 37-70.\n",
    "\n",
    "Crawford, K. & Paglen, T., 2021. The Hidden Biases in AI. The New York Times. Available at: https://www.nytimes.com/2021/03/18/opinion/ai-bias.html [Accessed 5 May 2025].\n",
    "\n",
    "Fitzpatrick, K. K., Darcy, A. & Vierhile, M., 2020. Delivering Cognitive Behavioral Therapy to Young Adults through an App: Feasibility and Acceptability of the Moodbuster. Journal of Medical Internet Research, 22(5), pp. e12344.\n",
    "\n",
    "Mohr, D. C., Burns, M. N., Schueller, S. M., Clarke, G. & Klinkman, M., 2017. Behavioral Intervention Technologies: Evidence Review and Recommendations for Future Research in Mental Health. General Hospital Psychiatry, 39, pp. 5-12."
   ]
  }
 ],
 "metadata": {
  "kernelspec": {
   "display_name": "Python 3",
   "language": "python",
   "name": "python3"
  },
  "language_info": {
   "codemirror_mode": {
    "name": "ipython",
    "version": 3
   },
   "file_extension": ".py",
   "mimetype": "text/x-python",
   "name": "python",
   "nbconvert_exporter": "python",
   "pygments_lexer": "ipython3",
   "version": "3.12.1"
  }
 },
 "nbformat": 4,
 "nbformat_minor": 5
}
