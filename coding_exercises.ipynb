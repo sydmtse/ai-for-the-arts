{
 "cells": [
  {
   "cell_type": "markdown",
   "metadata": {},
   "source": [
    "# AI for the Arts Coding Exercise\n",
    "\n",
    "The purpose of this repository is to provide clear and relevant info about the project\n",
    "\n",
    "* improve my skills\n",
    "* build more complex projects\n",
    "* learn additional coding languages\n"
   ]
  },
  {
   "cell_type": "markdown",
   "metadata": {},
   "source": [
    "# Hello World\n",
    "\n",
    "The following code was created as my first attempt at programming in this course. It is meant to help me understand how to write and run code in GitHub Codespaces. "
   ]
  },
  {
   "cell_type": "code",
   "execution_count": 1,
   "metadata": {},
   "outputs": [
    {
     "name": "stdout",
     "output_type": "stream",
     "text": [
      "Hello, World!\n"
     ]
    }
   ],
   "source": [
    "print(\"Hello, World!\")"
   ]
  },
  {
   "cell_type": "markdown",
   "metadata": {},
   "source": [
    "# Microsoft Copilot\n",
    "\n",
    "### Prompt:\n",
    "**Could you suggest a python code for ‘Hello, world!’ to demonstrate the concept of printing to a complete beginner in programming? Please explain the code step-by-step highlighting any key aspects.**\n",
    "\n",
    "### Learning Outcomes\n",
    "\n",
    "1. Understanding Basic Syntax:\n",
    "\n",
    "- Function Usage: Learn how to use built-in functions like print.\n",
    "- String Definition: Understand how to define and use strings in Python.\n",
    "\n",
    "2. Introduction to Programming Concepts:\n",
    "\n",
    "- Functions: Get familiar with the concept of functions and how they work.\n",
    "- Arguments: Learn how to pass arguments to functions.\n",
    "\n",
    "3. Hands-on Experience:\n",
    "\n",
    "- Running Code: Gain practical experience by running the code and seeing the output.\n",
    "- Debugging: Learn to troubleshoot simple errors (e.g., missing quotes or parentheses).\n",
    "\n",
    "4. Syntax Familiarity:\n",
    "\n",
    "- Indentation: Understand the importance of indentation in Python (though not needed for this simple example).\n",
    "- Readability: Appreciate Python's readable and straightforward syntax.\n",
    "\n",
    "5. Confidence Building:\n",
    "\n",
    "- First Success: Experience the satisfaction of writing and executing your first piece of code, which can boost confidence and motivation to learn more."
   ]
  },
  {
   "cell_type": "code",
   "execution_count": 2,
   "metadata": {},
   "outputs": [
    {
     "name": "stdout",
     "output_type": "stream",
     "text": [
      "Hello, world!\n"
     ]
    }
   ],
   "source": [
    "\n",
    "print(\"Hello, world!\")"
   ]
  },
  {
   "cell_type": "markdown",
   "metadata": {},
   "source": [
    "### Prompt:\n",
    "Write a function that prints my name and age.\n",
    "\n",
    "### Learning Outcome:\n",
    "I practiced using string formatting and learned how to include variables inside a print statement. "
   ]
  },
  {
   "cell_type": "code",
   "execution_count": null,
   "metadata": {},
   "outputs": [
    {
     "name": "stdout",
     "output_type": "stream",
     "text": [
      "My name is Sydney and I am 22 years old.\n"
     ]
    }
   ],
   "source": [
    "# prints the users name and age\n",
    "def print_info():\n",
    "    name = \"Sydney\" # sets name to Sydney\n",
    "    age = 22\n",
    "    print(f\"My name is {name} and I am {age} years old.\")\n",
    "\n",
    "print_info()"
   ]
  },
  {
   "cell_type": "markdown",
   "metadata": {},
   "source": [
    "## Copilot explanation of Error:\n",
    "It looks like you're encountering a NameError because the variable Sydney is not defined in your code. This error occurs when you try to use a variable that hasn't been assigned a value yet.\n",
    "\n",
    "Here's how you can fix it:\n",
    "\n",
    "1. Define the Variable: Make sure you assign a value to Sydney before using it."
   ]
  },
  {
   "cell_type": "code",
   "execution_count": null,
   "metadata": {},
   "outputs": [],
   "source": [
    "\n",
    "# Define the variable\n",
    "Sydney = \"Hello, Sydney!\"\n",
    "\n",
    "# Use the variable\n",
    "print(Sydney)"
   ]
  },
  {
   "cell_type": "markdown",
   "metadata": {},
   "source": [
    "##Explanation:**\n",
    "- Variable Definition: Sydney = \"Hello, Sydney!\" assigns the string \"Hello, Sydney!\" to the variable Sydney.\n",
    "- Using the Variable: print(Sydney) prints the value of the variable Sydney.\n",
    "\n",
    "By defining the variable before using it, you should no longer see the NameError. If you have any more questions or need further assistance, feel free to ask! 😊"
   ]
  },
  {
   "cell_type": "markdown",
   "metadata": {},
   "source": [
    "# 1. Variables\n",
    "\n",
    "### Prompt:\n",
    "\n",
    "**Could you suggest a modification of the Python code for “Hello, world!” to demonstrate the concept of variables to a complete beginner in programming? Please explain the code step-by-step highlighting any key aspects.**\n",
    "\n",
    "### Response:"
   ]
  },
  {
   "cell_type": "code",
   "execution_count": null,
   "metadata": {},
   "outputs": [],
   "source": [
    "\n",
    "message = \"Hello, world!\"\n",
    "print(message)"
   ]
  },
  {
   "cell_type": "markdown",
   "metadata": {},
   "source": [
    "### Step-by-Step Explanation:\n",
    "1. message = \"Hello, world!\":\n",
    "\n",
    "- Variable Assignment: Here, message is a variable. A variable is like a container that holds data. In this case, it holds the string \"Hello, world!\".\n",
    "- String: The text \"Hello, world!\" is a string, just like in the previous example.\n",
    "- Assignment Operator (=): The = sign is used to assign the value on the right (the string) to the variable on the left (message).\n",
    "\n",
    "2. print(message):\n",
    "\n",
    "- Function Call: The print function is called to display the value of the variable message.\n",
    "- Variable Usage: Instead of directly printing the string, we print the value stored in the variable message.\n",
    "\n",
    "**Key Aspects:**\n",
    "- Variables: Variables are used to store data that can be reused and manipulated throughout the program. They make the code more flexible and readable.\n",
    "- Assignment: The = operator assigns a value to a variable.\n",
    "- Reusability: By using variables, you can easily change the value in one place and have it reflected wherever the variable is used.\n",
    "\n",
    "**Benefits of Using Variables:**\n",
    "- Readability: Variables can make your code easier to read and understand.\n",
    "- Maintainability: If you need to change the value, you only need to update it in one place.\n",
    "- Flexibility: Variables allow you to store different types of data and perform operations on them.\n",
    "\n",
    "Feel free to try running this code to see how it works! If you have any questions or need further clarification, just let me know. 😊"
   ]
  },
  {
   "cell_type": "markdown",
   "metadata": {},
   "source": [
    "# 2. Functions\n",
    "\n",
    "### Initial Prompt:\n",
    "**Could you suggest a modification of the Python code for “Hello,\n",
    "world!” to demonstrate the concept of functions to a complete beginner in programming? Please explain the code step-by-step highlighting any key aspects.**\n",
    "\n",
    "### Response:"
   ]
  },
  {
   "cell_type": "code",
   "execution_count": null,
   "metadata": {},
   "outputs": [],
   "source": [
    "\n",
    "def greet():\n",
    " message = \"Hello, world!\"\n",
    "print(message)\n",
    "\n",
    "greet()"
   ]
  },
  {
   "cell_type": "markdown",
   "metadata": {},
   "source": [
    "### Step-by-Step Explanation:\n",
    "1. def greet()::\n",
    "\n",
    "- Function Definition: The def keyword is used to define a new function. greet is the name of the function.\n",
    "- Parentheses (): These are used to define parameters for the function. In this case, the function greet doesn't take any parameters.\n",
    "- Colon :: Indicates the start of the function's body.\n",
    "\n",
    "2. message = \"Hello, world!\":\n",
    "\n",
    "- Variable Assignment: Inside the function, we define a variable message and assign it the string \"Hello, world!\".\n",
    "\n",
    "3. print(message):\n",
    "\n",
    "- Function Call: Inside the function, we call the print function to display the value of message.\n",
    "\n",
    "4. greet():\n",
    "\n",
    "- Calling the Function: After defining the function, we call it using its name followed by parentheses. This executes the code inside the function."
   ]
  },
  {
   "cell_type": "markdown",
   "metadata": {},
   "source": [
    "### Suggested Prompt:"
   ]
  },
  {
   "cell_type": "markdown",
   "metadata": {},
   "source": [
    "**What are some common mistakes when using variables?**\n",
    "\n",
    "### Response:\n",
    "1. Undefined variables"
   ]
  },
  {
   "cell_type": "code",
   "execution_count": null,
   "metadata": {},
   "outputs": [],
   "source": [
    "\n",
    "# Incorrect\n",
    "print(message) # NameError: name 'message' is not defined\n",
    "\n",
    "# Correct\n",
    "message = \"Hello, world!\"\n",
    "print(message)"
   ]
  },
  {
   "cell_type": "markdown",
   "metadata": {},
   "source": [
    "2. Incorrect variable names"
   ]
  },
  {
   "cell_type": "code",
   "execution_count": null,
   "metadata": {},
   "outputs": [],
   "source": [
    "\n",
    "# Incorrect\n",
    "1-message = \"Hello, world!\" # SyntaxError\n",
    "\n",
    "# Correct\n",
    "message1 = \"Hello, world!\""
   ]
  },
  {
   "cell_type": "code",
   "execution_count": null,
   "metadata": {},
   "outputs": [],
   "source": [
    "3. ### Case sensitivity"
   ]
  },
  {
   "cell_type": "code",
   "execution_count": null,
   "metadata": {},
   "outputs": [],
   "source": [
    "\n",
    "# Incorrect\n",
    "Message = \"Hello, world!\"\n",
    "print(message) # NameError: name 'message' is not defined\n",
    "\n",
    "# Correct\n",
    "message = \"Hello, world!\"\n",
    "print(message)"
   ]
  },
  {
   "cell_type": "markdown",
   "metadata": {},
   "source": [
    "### My Own Prompt:\n",
    "**Can you explain data types in simple terms?**\n",
    "\n",
    "### Response:\n",
    "Integers (int):\n",
    "\n",
    "1. Description: Whole numbers without decimal points.\n",
    "Examples: 1, 42, -7\n",
    "Floating-Point Numbers (float):\n",
    "\n",
    "2. Description: Numbers with decimal points.\n",
    "Examples: 3.14, 0.99, -2.5\n",
    "\n",
    "3. Lists (list):\n",
    "Description: Ordered collections of items (which can be of different data types) enclosed in square brackets.\n",
    "Examples: [1, 2, 3], [\"apple\", \"banana\", \"cherry\"], [True, 3.14, \"hello\"]\n",
    "\n",
    "\n",
    "**Why Data Types Matter:**\n",
    "Organization: Data types help organize and manage different kinds of information in a program.\n",
    "Operations: Different data types support different operations. For example, you can add integers and floats, but you concatenate (join) strings.\n",
    "Error Prevention: Using the correct data type helps prevent errors and ensures that your program runs smoothly.\n",
    "\n",
    "**Example:**"
   ]
  },
  {
   "cell_type": "code",
   "execution_count": null,
   "metadata": {},
   "outputs": [],
   "source": [
    "# Integer\n",
    "age = 25\n",
    "\n",
    "# Float\n",
    "height = 5.9\n",
    "\n",
    "# List\n",
    "fruits = [\"apple\", \"banana\", \"cherry\"]\n"
   ]
  },
  {
   "cell_type": "markdown",
   "metadata": {},
   "source": [
    "### Learning Outcomes:\n",
    "- A variable is a name for a value stored in memory.\n",
    "- You create one with the `=` sign, like: `message = \"Hello\"`.\n",
    "- Variables can hold different types of data (strings, integers, etc.).\n",
    "- Naming conventions are important for clarity."
   ]
  },
  {
   "cell_type": "markdown",
   "metadata": {},
   "source": [
    "# 3. Other Prompts to Explore\n",
    "\n",
    "1. **Could you suggest a modification of the Python code for “Hello, world!” to demonstrate the concept of loops to a complete beginner in programming? Please explain the code step-by-step highlighting any key aspects.**\n",
    "\n",
    "**Response:**"
   ]
  },
  {
   "cell_type": "code",
   "execution_count": null,
   "metadata": {},
   "outputs": [],
   "source": [
    "for i in range(5):\n",
    "    print(\"Hello, world!\")"
   ]
  },
  {
   "cell_type": "markdown",
   "metadata": {},
   "source": [
    "Step-by-Step Explanation:\n",
    "1. for i in range(5)::\n",
    "- For Loop: The for loop is used to repeat a block of code a certain number of times.\n",
    "- i: This is a loop variable that takes on the value of each item in the sequence generated by range(5).\n",
    "- range(5): The range function generates a sequence of numbers from 0 to 4 (5 numbers in total). The loop will run 5 times.\n",
    "\n",
    "2. print(\"Hello, world!\"):\n",
    "- Indented Block: The code inside the loop is indented. This tells Python that this block of code belongs to the loop.\n",
    "- Print Statement: The print function is called to display \"Hello, world!\" each time the loop runs.\n",
    "\n",
    "Key Aspects:\n",
    "- Loops: Loops are used to repeat a block of code multiple times. They help automate repetitive tasks.\n",
    "- For Loop: The for loop iterates over a sequence (like a range of numbers) and executes the block of code for each item in the sequence.\n",
    "- Range Function: The range function generates a sequence of numbers, which is useful for controlling the number of times a loop runs.\n",
    "- Indentation: Indentation is crucial in Python to define the scope of loops and other control structures.\n",
    "\n",
    "Benefits of Using Loops:\n",
    "- Efficiency: Loops reduce the need to write repetitive code.\n",
    "- Automation: Loops can automate tasks that need to be repeated multiple times.\n",
    "- Flexibility: Loops can be used with different sequences and conditions to perform various tasks."
   ]
  },
  {
   "cell_type": "markdown",
   "metadata": {},
   "source": [
    "2. **Could you suggest a modification of the Python code for “Hello, world!” to demonstrate the concept of lists to a complete beginner in programming? Please explain the code step- by-step highlighting any key aspects.**\n",
    "\n",
    "**Response:**"
   ]
  },
  {
   "cell_type": "code",
   "execution_count": null,
   "metadata": {},
   "outputs": [],
   "source": [
    "messages = [\"Hello, world!\", \"Hi there!\", \"Greetings!\", \"Welcome!\", \"Howdy!\"]\n",
    "\n",
    "for message in messages:\n",
    "    print(message)"
   ]
  },
  {
   "cell_type": "markdown",
   "metadata": {},
   "source": [
    "Step-by-Step Explanation:\n",
    "1. messages = [\"Hello, world!\", \"Hi there!\", \"Greetings!\", \"Welcome!\", \"Howdy!\"]:\n",
    "- List Definition: messages is a list that contains multiple strings. A list is an ordered collection of items, which can be of any data type.\n",
    "- Square Brackets []: Lists are defined using square brackets, with items separated by commas.\n",
    "- Strings: Each item in the list is a string, enclosed in quotes.\n",
    "\n",
    "2. for message in messages::\n",
    "- For Loop: The for loop is used to iterate over each item in the list messages.\n",
    "- Loop Variable: message is the loop variable that takes on the value of each item in the list during each iteration.\n",
    "\n",
    "3. print(message):\n",
    "- Indented Block: The code inside the loop is indented, indicating that it belongs to the loop.\n",
    "- Print Statement: The print function is called to display the value of message for each iteration of the loop.\n",
    "\n",
    "Key Aspects:\n",
    "- Lists: Lists are versatile data structures that can store multiple items. They are ordered, meaning the items have a specific sequence.\n",
    "- Iteration: The for loop allows you to iterate over each item in the list, performing actions on each item.\n",
    "- Flexibility: Lists can contain items of different data types, though in this example, all items are strings.\n",
    "\n",
    "Benefits of Using Lists:\n",
    "- Organization: Lists help organize multiple items in a single variable.\n",
    "- Reusability: You can easily reuse and manipulate the items in a list.\n",
    "- Iteration: Lists work well with loops, allowing you to perform operations on each item efficiently."
   ]
  },
  {
   "cell_type": "markdown",
   "metadata": {},
   "source": [
    "3. **Could you suggest a modification of the Python code for “Hello, world!” to demonstrate the concept of dictionaries to a complete beginner in programming? Please explain the code step-by-step highlighting any key aspects.**\n",
    "\n",
    "**Response:**"
   ]
  },
  {
   "cell_type": "code",
   "execution_count": null,
   "metadata": {},
   "outputs": [],
   "source": [
    "greetings = {\n",
    "    \"English\": \"Hello, world!\",\n",
    "    \"Spanish\": \"¡Hola, mundo!\",\n",
    "    \"French\": \"Bonjour, le monde!\",\n",
    "    \"German\": \"Hallo, Welt!\",\n",
    "    \"Japanese\": \"こんにちは、世界！\"\n",
    "}\n",
    "\n",
    "for language, greeting in greetings.items():\n",
    "    print(f\"In {language}, we say: {greeting}\")"
   ]
  },
  {
   "cell_type": "markdown",
   "metadata": {},
   "source": [
    "Step-by-Step Explanation:\n",
    "messages = [\"Hello, world!\", \"Hi there!\", \"Greetings!\", \"Welcome!\", \"Howdy!\"]:\n",
    "- List Definition: messages is a list that contains multiple strings. A list is an ordered collection of items, which can be of any data type.\n",
    "- Square Brackets []: Lists are defined using square brackets, with items separated by commas.\n",
    "- Strings: Each item in the list is a string, enclosed in quotes.\n",
    "\n",
    "2.  for message in messages::\n",
    "- For Loop: The for loop is used to iterate over each item in the list messages.\n",
    "- Loop Variable: message is the loop variable that takes on the value of each item in the list during each iteration.\n",
    "\n",
    "3. print(message):\n",
    "- Indented Block: The code inside the loop is indented, indicating that it belongs to the loop.\n",
    "- Print Statement: The print function is called to display the value of message for each iteration of the loop.\n",
    "\n",
    "Key Aspects:\n",
    "- Lists: Lists are versatile data structures that can store multiple items. They are ordered, meaning the items have a specific sequence.\n",
    "- Iteration: The for loop allows you to iterate over each item in the list, performing actions on each item.\n",
    "- Flexibility: Lists can contain items of different data types, though in this example, all items are strings.\n",
    "\n",
    "Benefits of Using Lists:\n",
    "- Organization: Lists help organize multiple items in a single variable.\n",
    "- Reusability: You can easily reuse and manipulate the items in a list.\n",
    "- Iteration: Lists work well with loops, allowing you to perform operations on each item efficiently."
   ]
  },
  {
   "cell_type": "markdown",
   "metadata": {},
   "source": [
    "4. **Could you suggest a modification of the Python code for “Hello, world!” to demonstrate the concept of arrays to a complete beginner in programming? Please explain the code step-by-step highlighting any key aspects.**\n",
    "\n",
    "**Response:**"
   ]
  },
  {
   "cell_type": "code",
   "execution_count": null,
   "metadata": {},
   "outputs": [],
   "source": [
    "import array\n",
    "\n",
    "# Define an array of strings\n",
    "messages = array.array('u', [\"Hello, world!\", \"Hi there!\", \"Greetings!\", \"Welcome!\", \"Howdy!\"])\n",
    "\n",
    "# Loop through the array and print each message\n",
    "for message in messages:\n",
    "    print(message)"
   ]
  },
  {
   "cell_type": "markdown",
   "metadata": {},
   "source": [
    "Step-by-Step Explanation:\n",
    "1. import array:\n",
    "- Import Statement: This line imports the array module, which provides support for arrays in Python.\n",
    "\n",
    "2. messages = array.array('u', [\"Hello, world!\", \"Hi there!\", \"Greetings!\", \"Welcome!\", \"Howdy!\"]):\n",
    "- Array Definition: messages is an array that contains multiple strings.\n",
    "- array.array('u', [...]): The array function creates an array. The 'u' specifies the type code for Unicode characters (strings). The list of strings is passed as the second argument.\n",
    "\n",
    "3. for message in messages::\n",
    "- For Loop: The for loop is used to iterate over each item in the array messages.\n",
    "- Loop Variable: message is the loop variable that takes on the value of each item in the array during each iteration.\n",
    "\n",
    "4. print(message):\n",
    "- Indented Block: The code inside the loop is indented, indicating that it belongs to the loop.\n",
    "- Print Statement: The print function is called to display the value of message for each iteration of the loop.\n",
    "\n",
    "Key Aspects:\n",
    "- Arrays: Arrays are collections of items of the same type. They are similar to lists but are more efficient for certain operations.\n",
    "- Type Code: The type code 'u' specifies that the array will hold Unicode characters (strings).\n",
    "- Iteration: The for loop allows you to iterate over each item in the array, performing actions on each item.\n",
    "\n",
    "Benefits of Using Arrays:\n",
    "- Efficiency: Arrays can be more efficient than lists for certain operations, especially when dealing with large amounts of data.\n",
    "- Consistency: Arrays enforce that all items are of the same type, which can help prevent errors."
   ]
  },
  {
   "cell_type": "markdown",
   "metadata": {},
   "source": [
    "5. **Could you suggest a modification of the Python code for “Hello, world!” to demonstrate the concept of importing libraries to a complete beginner in programming? Please explain the code step-by-step highlighting any key aspects.**\n",
    "\n",
    "**Response**"
   ]
  },
  {
   "cell_type": "code",
   "execution_count": null,
   "metadata": {},
   "outputs": [],
   "source": [
    "import datetime\n",
    "\n",
    "def greet():\n",
    "    current_time = datetime.datetime.now()\n",
    "    print(\"Hello, world!\")\n",
    "    print(f\"The current date and time is: {current_time}\")\n",
    "\n",
    "greet()\n"
   ]
  },
  {
   "cell_type": "markdown",
   "metadata": {},
   "source": [
    "Step-by-Step Explanation:\n",
    "1. import datetime:\n",
    "- Import Statement: This line imports the datetime library, which provides classes for manipulating dates and times.\n",
    "- Libraries: Libraries (or modules) are collections of pre-written code that you can include in your programs to add functionality without having to write it from scratch.\n",
    "\n",
    "2. def greet()::\n",
    "- Function Definition: This defines a function named greet.\n",
    "\n",
    "3. current_time = datetime.datetime.now():\n",
    "- Using the Library: This line uses the datetime library to get the current date and time.\n",
    "- datetime.datetime.now(): The now() method of the datetime class returns the current date and time.\n",
    "\n",
    "4. print(\"Hello, world!\"):\n",
    "- Print Statement: This prints the string \"Hello, world!\".\n",
    "\n",
    "5. print(f\"The current date and time is: {current_time}\"):\n",
    "- Formatted String: This uses an f-string to embed the value of current_time in the string.\n",
    "- Print Statement: This prints the current date and time.\n",
    "\n",
    "6. greet():\n",
    "- Calling the Function: This calls the greet function, which executes the code inside it.\n",
    "\n",
    "Key Aspects:\n",
    "- Importing Libraries: Importing libraries allows you to use pre-written code to add functionality to your programs.\n",
    "- Using Library Functions: Once a library is imported, you can use its functions and classes in your code.\n",
    "- Formatted Strings: F-strings (formatted string literals) allow you to embed expressions inside string literals, making it easy to include variable values in strings.\n",
    "\n",
    "Benefits of Importing Libraries:\n",
    "- Efficiency: Libraries save time by providing pre-written code for common tasks.\n",
    "- Functionality: Libraries extend the capabilities of your programs by adding new features.\n",
    "- Readability: Using libraries can make your code more readable and maintainable."
   ]
  },
  {
   "cell_type": "markdown",
   "metadata": {},
   "source": [
    "6. **Could you suggest a modification of the Python code for “Hello, world!” to demonstrate the concepts of if, elif, and else statements to a complete beginner in programming? Please explain the code step-by-step highlighting any key aspects.**\n",
    "\n",
    "**Response**"
   ]
  },
  {
   "cell_type": "code",
   "execution_count": null,
   "metadata": {},
   "outputs": [],
   "source": [
    "message = \"Hello, world!\"\n",
    "\n",
    "if message == \"Hello, world!\":\n",
    "    print(\"The message is a friendly greeting.\")\n",
    "elif message == \"Goodbye, world!\":\n",
    "    print(\"The message is a farewell.\")\n",
    "else:\n",
    "    print(\"The message is something else.\")"
   ]
  },
  {
   "cell_type": "markdown",
   "metadata": {},
   "source": [
    "Step-by-Step Explanation:\n",
    "\n",
    "1. message = \"Hello, world!\":\n",
    "- Variable Assignment: This line assigns the string \"Hello, world!\" to the variable message.\n",
    "\n",
    "2. if message == \"Hello, world!\"::\n",
    "- If Statement: The if statement checks if the condition message == \"Hello, world!\" is true.\n",
    "- Condition: The condition message == \"Hello, world!\" compares the value of message to the string \"Hello, world!\".\n",
    "- Colon :: Indicates the start of the block of code that will run if the condition is true.\n",
    "\n",
    "3. print(\"The message is a friendly greeting.\"):\n",
    "- Indented Block: The code inside the if statement is indented, indicating that it belongs to the if block.\n",
    "- Print Statement: This prints a message indicating that the message is a friendly greeting.\n",
    "\n",
    "4. elif message == \"Goodbye, world!\"::\n",
    "- Elif Statement: The elif (else if) statement checks another condition if the previous if condition was false.\n",
    "- Condition: The condition message == \"Goodbye, world!\" compares the value of message to the string \"Goodbye, world!\".\n",
    "- Colon :: Indicates the start of the block of code that will run if the elif condition is true.\n",
    "\n",
    "5. print(\"The message is a farewell.\"):\n",
    "- Indented Block: The code inside the elif statement is indented, indicating that it belongs to the elif block.\n",
    "- Print Statement: This prints a message indicating that the message is a farewell.\n",
    "\n",
    "6. else::\n",
    "- Else Statement: The else statement runs a block of code if none of the previous conditions were true.\n",
    "- Colon :: Indicates the start of the block of code that will run if the else condition is true.\n",
    "\n",
    "7. print(\"The message is something else.\"):\n",
    "- Indented Block: The code inside the else statement is indented, indicating that it belongs to the else block.\n",
    "- Print Statement: This prints a message indicating that the message is something else.\n",
    "\n",
    "Key Aspects:\n",
    "- Conditional Statements: if, elif, and else statements are used to execute different blocks of code based on conditions.\n",
    "- Comparison Operators: The == operator is used to compare values.\n",
    "- Indentation: Indentation is crucial in Python to define the scope of conditional statements and other control structures.\n",
    "- Logical Flow: Conditional statements allow your program to make decisions and execute different code paths based on the conditions.\n",
    "\n",
    "Benefits of Using Conditional Statements:\n",
    "- Decision Making: Conditional statements enable your program to make decisions and respond differently based on varying conditions.\n",
    "- Flexibility: They allow for more flexible and dynamic code execution.\n",
    "- Readability: Using if, elif, and else statements makes your code more readable and easier to understand."
   ]
  },
  {
   "cell_type": "markdown",
   "metadata": {},
   "source": [
    "7. **Could you suggest a modification of the Python code for “Hello, world!” to demonstrate the concept of operators to a complete beginner in programming? Please explain the code step-by-step highlighting any key aspects. Include discussions about addition and multiplication between strings and numbers.**\n",
    "\n",
    "**Response**"
   ]
  },
  {
   "cell_type": "code",
   "execution_count": null,
   "metadata": {},
   "outputs": [],
   "source": [
    "# Addition of numbers\n",
    "num1 = 5\n",
    "num2 = 10\n",
    "sum_result = num1 + num2\n",
    "print(f\"The sum of {num1} and {num2} is {sum_result}\")\n",
    "\n",
    "# Multiplication of numbers\n",
    "product_result = num1 * num2\n",
    "print(f\"The product of {num1} and {num2} is {product_result}\")\n",
    "\n",
    "# Addition of strings\n",
    "greeting1 = \"Hello, \"\n",
    "greeting2 = \"world!\"\n",
    "combined_greeting = greeting1 + greeting2\n",
    "print(combined_greeting)\n",
    "\n",
    "# Multiplication of strings\n",
    "repeat_greeting = greeting1 * 3\n",
    "print(repeat_greeting)"
   ]
  },
  {
   "cell_type": "markdown",
   "metadata": {},
   "source": [
    "Step-by-Step Explanation:\n",
    "\n",
    "1. Addition of Numbers:\n",
    "- Variable Assignment: num1 and num2 are assigned the values 5 and 10, respectively.\n",
    "- Addition Operator (+): The + operator is used to add two numbers.\n",
    "- Result Storage: The result of the addition is stored in the variable sum_result.\n",
    "- Print Statement: The print function displays the sum using an f-string for formatting.\n",
    "\n",
    "2. Multiplication of Numbers:\n",
    "- Multiplication Operator (*): The * operator is used to multiply two numbers.\n",
    "- Result Storage: The result of the multiplication is stored in the variable product_result.\n",
    "- Print Statement: The print function displays the product using an f-string for formatting.\n",
    "\n",
    "3. Addition of Strings:\n",
    "- Variable Assignment: greeting1 and greeting2 are assigned the strings \"Hello, \" and \"world!\", respectively.\n",
    "- Concatenation Operator (+): The + operator is used to concatenate (join) two strings.\n",
    "- Result Storage: The combined string is stored in the variable combined_greeting.\n",
    "- Print Statement: The print function displays the concatenated string.\n",
    "\n",
    "4. Multiplication of Strings:\n",
    "- Multiplication Operator (*): The * operator is used to repeat a string a specified number of times.\n",
    "- Result Storage: The repeated string is stored in the variable repeat_greeting.\n",
    "- Print Statement: The print function displays the repeated string.\n",
    "\n",
    "Key Aspects:\n",
    "- Operators: Operators are symbols that perform operations on variables and values. Common operators include + for addition and * for multiplication.\n",
    "- Addition:\n",
    "    - Numbers: Adding numbers results in their sum.\n",
    "    - Strings: Adding strings concatenates them.\n",
    "- Multiplication:\n",
    "    - Numbers: Multiplying numbers results in their product.\n",
    "    - Strings: Multiplying strings repeats them a specified number of times.\n",
    "- Formatted Strings: F-strings (f\"...\") allow embedding expressions inside string literals for easy formatting.\n",
    "\n",
    "Benefits of Understanding Operators:\n",
    "- Mathematical Operations: Operators enable you to perform mathematical operations on numbers.\n",
    "- String Manipulation: Operators allow you to manipulate strings by concatenating or repeating them.\n",
    "- Code Efficiency: Using operators makes your code more efficient and readable."
   ]
  },
  {
   "cell_type": "markdown",
   "metadata": {},
   "source": [
    "8. **Could you suggest a modification of the Python code for “Hello, world!” to demonstrate the concept of classes, objects and methods to a complete beginner in programming? Please explain the code step-by-step highlighting any key aspects.**\n",
    "\n",
    "**Response**"
   ]
  },
  {
   "cell_type": "code",
   "execution_count": null,
   "metadata": {},
   "outputs": [],
   "source": [
    "class Greeter:\n",
    "    def __init__(self, message):\n",
    "        self.message = message\n",
    "\n",
    "    def greet(self):\n",
    "        print(self.message)\n",
    "\n",
    "# Create an object of the Greeter class\n",
    "greeter = Greeter(\"Hello, world!\")\n",
    "\n",
    "# Call the greet method on the object\n",
    "greeter.greet()"
   ]
  },
  {
   "cell_type": "markdown",
   "metadata": {},
   "source": [
    "Step-by-Step Explanation:\n",
    "\n",
    "1. class Greeter::\n",
    "- Class Definition: The class keyword is used to define a new class named Greeter. A class is a blueprint for creating objects.\n",
    "\n",
    "2. def __init__(self, message)::\n",
    "- Constructor Method: The __init__ method is a special method called a constructor. It is automatically called when an object of the class is created.\n",
    "- Parameters: self refers to the instance of the class, and message is a parameter passed to the constructor.\n",
    "\n",
    "3. self.message = message:\n",
    "- Instance Variable: self.message is an instance variable that stores the value of message for the object.\n",
    "\n",
    "4. def greet(self)::\n",
    "- Method Definition: The greet method is defined within the class. Methods are functions that belong to a class.\n",
    "- Parameters: self refers to the instance of the class.\n",
    "\n",
    "5. print(self.message):\n",
    "- Print Statement: The print function displays the value of self.message.\n",
    "\n",
    "6. greeter = Greeter(\"Hello, world!\"):\n",
    "Object Creation: An object of the Greeter class is created and assigned to the variable greeter. The string \"Hello, world!\" is passed to the constructor.\n",
    "\n",
    "7. greeter.greet():\n",
    "Method Call: The greet method is called on the greeter object, which executes the code inside the method.\n",
    "\n",
    "Key Aspects:\n",
    "- Classes: Classes are blueprints for creating objects. They define the properties and behaviors of the objects.\n",
    "- Objects: Objects are instances of classes. They hold data and can perform actions defined by methods.\n",
    "- Methods: Methods are functions defined within a class that operate on objects.\n",
    "- Constructor (__init__): The constructor initializes the object's properties when it is created.\n",
    "- Instance Variables: Instance variables store data specific to each object.\n",
    "\n",
    "Benefits of Using Classes and Objects:\n",
    "- Encapsulation: Classes encapsulate data and methods, making code more modular and organized.\n",
    "- Reusability: Classes and objects promote code reuse by defining common behaviors and properties.\n",
    "- Abstraction: Classes provide a way to abstract complex systems into manageable pieces."
   ]
  },
  {
   "cell_type": "markdown",
   "metadata": {},
   "source": [
    "9. **Could you use the examples you have provided above to explain basic syntax of Python to a complete beginner in programming? Please explain step-by-step highlighting any key aspects. Please include well known references to Python styling guides.**\n",
    "\n",
    "**Response**"
   ]
  },
  {
   "cell_type": "markdown",
   "metadata": {},
   "source": [
    "### Basic Syntax of Python\n",
    "1. Printing to the Screen"
   ]
  },
  {
   "cell_type": "code",
   "execution_count": null,
   "metadata": {},
   "outputs": [],
   "source": [
    "print(\"Hello, world!\")"
   ]
  },
  {
   "cell_type": "markdown",
   "metadata": {},
   "source": [
    "Explanation:\n",
    "\n",
    "- Function: print is a built-in function used to display text or other output on the screen.\n",
    "- String: \"Hello, world!\" is a sequence of characters enclosed in quotes.\n",
    "- Parentheses: Used to pass arguments to functions."
   ]
  },
  {
   "cell_type": "markdown",
   "metadata": {},
   "source": [
    "2. Variables"
   ]
  },
  {
   "cell_type": "code",
   "execution_count": null,
   "metadata": {},
   "outputs": [],
   "source": [
    "message = \"Hello, world!\"\n",
    "print(message)\n"
   ]
  },
  {
   "cell_type": "markdown",
   "metadata": {},
   "source": [
    "Explanation:\n",
    "\n",
    "- Variable Assignment: message is a variable that stores the string \"Hello, world!\".\n",
    "- Using Variables: Variables can be used in functions like print."
   ]
  },
  {
   "cell_type": "markdown",
   "metadata": {},
   "source": [
    "3. Functions"
   ]
  },
  {
   "cell_type": "code",
   "execution_count": null,
   "metadata": {},
   "outputs": [],
   "source": [
    "def greet():\n",
    "    message = \"Hello, world!\"\n",
    "    print(message)\n",
    "\n",
    "greet()"
   ]
  },
  {
   "cell_type": "markdown",
   "metadata": {},
   "source": [
    "Explanation:\n",
    "\n",
    "- Function Definition: def keyword is used to define a function.\n",
    "- Indentation: Code inside the function is indented.\n",
    "- Calling Functions: Functions are called by their name followed by parentheses."
   ]
  },
  {
   "cell_type": "markdown",
   "metadata": {},
   "source": [
    "4. Loops"
   ]
  },
  {
   "cell_type": "code",
   "execution_count": null,
   "metadata": {},
   "outputs": [],
   "source": [
    "for i in range(5):\n",
    "    print(\"Hello, world!\")\n"
   ]
  },
  {
   "cell_type": "markdown",
   "metadata": {},
   "source": [
    "Explanation:\n",
    "\n",
    "- For Loop: Used to repeat a block of code multiple times.\n",
    "- Range Function: Generates a sequence of numbers."
   ]
  },
  {
   "cell_type": "markdown",
   "metadata": {},
   "source": [
    "5. Lists"
   ]
  },
  {
   "cell_type": "code",
   "execution_count": null,
   "metadata": {},
   "outputs": [],
   "source": [
    "messages = [\"Hello, world!\", \"Hi there!\", \"Greetings!\", \"Welcome!\", \"Howdy!\"]\n",
    "\n",
    "for message in messages:\n",
    "    print(message)\n"
   ]
  },
  {
   "cell_type": "markdown",
   "metadata": {},
   "source": [
    "Explanation:\n",
    "\n",
    "- List Definition: Lists are ordered collections of items.\n",
    "- Iteration: for loop iterates over each item in the list."
   ]
  },
  {
   "cell_type": "markdown",
   "metadata": {},
   "source": [
    "6. Dictionaries"
   ]
  },
  {
   "cell_type": "code",
   "execution_count": null,
   "metadata": {},
   "outputs": [],
   "source": [
    "greetings = {\n",
    "    \"English\": \"Hello, world!\",\n",
    "    \"Spanish\": \"¡Hola, mundo!\",\n",
    "    \"French\": \"Bonjour, le monde!\",\n",
    "    \"German\": \"Hallo, Welt!\",\n",
    "    \"Japanese\": \"こんにちは、世界！\"\n",
    "}\n",
    "\n",
    "for language, greeting in greetings.items():\n",
    "    print(f\"In {language}, we say: {greeting}\")\n"
   ]
  },
  {
   "cell_type": "markdown",
   "metadata": {},
   "source": [
    "Explanation:\n",
    "\n",
    "- Dictionary Definition: Dictionaries store key-value pairs.\n",
    "- Iteration: for loop iterates over each key-value pair."
   ]
  },
  {
   "cell_type": "markdown",
   "metadata": {},
   "source": [
    "7. Importing Libraries"
   ]
  },
  {
   "cell_type": "code",
   "execution_count": null,
   "metadata": {},
   "outputs": [],
   "source": [
    "import datetime\n",
    "\n",
    "def greet():\n",
    "    current_time = datetime.datetime.now()\n",
    "    print(\"Hello, world!\")\n",
    "    print(f\"The current date and time is: {current_time}\")\n",
    "\n",
    "greet()"
   ]
  },
  {
   "cell_type": "markdown",
   "metadata": {},
   "source": [
    "Explanation:\n",
    "\n",
    "Import Statement: import keyword is used to include libraries.\n",
    "Using Library Functions: Functions from the library can be used in your code."
   ]
  },
  {
   "cell_type": "markdown",
   "metadata": {},
   "source": [
    "8. Conditional Statements"
   ]
  },
  {
   "cell_type": "code",
   "execution_count": null,
   "metadata": {},
   "outputs": [],
   "source": [
    "message = \"Hello, world!\"\n",
    "\n",
    "if message == \"Hello, world!\":\n",
    "    print(\"The message is a friendly greeting.\")\n",
    "elif message == \"Goodbye, world!\":\n",
    "    print(\"The message is a farewell.\")\n",
    "else:\n",
    "    print(\"The message is something else.\")"
   ]
  },
  {
   "cell_type": "markdown",
   "metadata": {},
   "source": [
    "Explanation:\n",
    "\n",
    "If Statement: Checks if a condition is true.\n",
    "Elif Statement: Checks another condition if the previous one is false.\n",
    "Else Statement: Runs if none of the previous conditions are true."
   ]
  },
  {
   "cell_type": "markdown",
   "metadata": {},
   "source": [
    "9. Operators"
   ]
  },
  {
   "cell_type": "code",
   "execution_count": null,
   "metadata": {},
   "outputs": [],
   "source": [
    "# Addition of numbers\n",
    "num1 = 5\n",
    "num2 = 10\n",
    "sum_result = num1 + num2\n",
    "print(f\"The sum of {num1} and {num2} is {sum_result}\")\n",
    "\n",
    "# Multiplication of numbers\n",
    "product_result = num1 * num2\n",
    "print(f\"The product of {num1} and {num2} is {product_result}\")\n",
    "\n",
    "# Addition of strings\n",
    "greeting1 = \"Hello, \"\n",
    "greeting2 = \"world!\"\n",
    "combined_greeting = greeting1 + greeting2\n",
    "print(combined_greeting)\n",
    "\n",
    "# Multiplication of strings\n",
    "repeat_greeting = greeting1 * 3\n",
    "print(repeat_greeting)"
   ]
  },
  {
   "cell_type": "markdown",
   "metadata": {},
   "source": [
    "Explanation:\n",
    "\n",
    "Addition and Multiplication: Operators like + and * can be used with numbers and strings.\n",
    "Concatenation: + operator joins strings.\n",
    "Repetition: * operator repeats strings."
   ]
  },
  {
   "cell_type": "markdown",
   "metadata": {},
   "source": [
    "10. Classes, Objects, and Methods"
   ]
  },
  {
   "cell_type": "code",
   "execution_count": null,
   "metadata": {},
   "outputs": [],
   "source": [
    "class Greeter:\n",
    "    def __init__(self, message):\n",
    "        self.message = message\n",
    "\n",
    "    def greet(self):\n",
    "        print(self.message)\n",
    "\n",
    "greeter = Greeter(\"Hello, world!\")\n",
    "greeter.greet()\n"
   ]
  },
  {
   "cell_type": "markdown",
   "metadata": {},
   "source": [
    "Explanation:\n",
    "\n",
    "Class Definition: class keyword is used to define a class.\n",
    "Constructor Method: __init__ initializes the object's properties.\n",
    "Methods: Functions defined within a class.\n",
    "Object Creation: Creating an instance of the class.\n",
    "Method Call: Calling a method on the object."
   ]
  },
  {
   "cell_type": "markdown",
   "metadata": {},
   "source": [
    "10. **Could you suggest three different Python implementations of the Hello World program to emphasise, respectively, principles of simplicity, security, and inclusion? Please explain step-by-step highlighting any key aspects.**\n",
    "\n",
    "**Response**\n",
    "\n",
    "1. Simplicity "
   ]
  },
  {
   "cell_type": "code",
   "execution_count": null,
   "metadata": {},
   "outputs": [],
   "source": [
    "print(\"Hello, world!\")\n"
   ]
  },
  {
   "cell_type": "markdown",
   "metadata": {},
   "source": [
    "Explanation:\n",
    "\n",
    "Function: print is a built-in function used to display text or other output on the screen.\n",
    "String: \"Hello, world!\" is a sequence of characters enclosed in quotes.\n",
    "Parentheses: Used to pass arguments to functions.\n",
    "Key Aspects:\n",
    "\n",
    "Minimalism: This implementation is straightforward and easy to understand, making it ideal for beginners.\n",
    "Readability: The code is concise and clear, adhering to the principle of simplicity."
   ]
  },
  {
   "cell_type": "markdown",
   "metadata": {},
   "source": [
    "2. Security "
   ]
  },
  {
   "cell_type": "code",
   "execution_count": null,
   "metadata": {},
   "outputs": [],
   "source": [
    "import html\n",
    "\n",
    "def secure_greet():\n",
    "    message = \"Hello, world!\"\n",
    "    safe_message = html.escape(message)\n",
    "    print(safe_message)\n",
    "\n",
    "secure_greet()\n"
   ]
  },
  {
   "cell_type": "markdown",
   "metadata": {},
   "source": [
    "Explanation:\n",
    "\n",
    "- Import Statement: import html imports the html module, which provides functions for escaping HTML characters.\n",
    "- Function Definition: secure_greet is a function that ensures the message is safe to display.\n",
    "- Escaping HTML: html.escape(message) converts special characters in the message to HTML-safe sequences.\n",
    "- Print Statement: Displays the escaped message.\n",
    "\n",
    "Key Aspects:\n",
    "\n",
    "- Security: This implementation ensures that the message is safe from HTML injection attacks.\n",
    "- Best Practices: Demonstrates the importance of sanitizing user input or output to prevent security vulnerabilities."
   ]
  },
  {
   "cell_type": "markdown",
   "metadata": {},
   "source": [
    "3. Inclusion"
   ]
  },
  {
   "cell_type": "code",
   "execution_count": null,
   "metadata": {},
   "outputs": [],
   "source": [
    "def greet_in_languages():\n",
    "    greetings = {\n",
    "        \"English\": \"Hello, world!\",\n",
    "        \"Spanish\": \"¡Hola, mundo!\",\n",
    "        \"French\": \"Bonjour, le monde!\",\n",
    "        \"German\": \"Hallo, Welt!\",\n",
    "        \"Japanese\": \"こんにちは、世界！\"\n",
    "    }\n",
    "\n",
    "    for language, greeting in greetings.items():\n",
    "        print(f\"In {language}, we say: {greeting}\")\n",
    "\n",
    "greet_in_languages()"
   ]
  },
  {
   "cell_type": "markdown",
   "metadata": {},
   "source": [
    "Explanation:\n",
    "- Function Definition: greet_in_languages is a function that prints greetings in multiple languages.\n",
    "- Dictionary: greetings is a dictionary that stores greetings in different languages.\n",
    "- For Loop: Iterates over each key-value pair in the dictionary.\n",
    "- Formatted String: Uses an f-string to format the output.\n",
    "\n",
    "Key Aspects:\n",
    "- Inclusion: This implementation includes greetings in multiple languages, promoting cultural diversity and inclusion.\n",
    "- Flexibility: The use of a dictionary allows for easy addition of more languages and greetings.\n",
    "\n",
    "\n",
    "Summary\n",
    "- Simplicity: Focuses on minimalism and readability, making it easy for beginners to understand.\n",
    "- Security: Emphasizes the importance of sanitizing output to prevent security vulnerabilities.\n",
    "- Inclusion: Promotes cultural diversity by including greetings in multiple languages."
   ]
  },
  {
   "cell_type": "markdown",
   "metadata": {},
   "source": [
    "# Summary of Learning Outcomes and Copilot Experience\n",
    "I developed a foundational understanding of Python programming, including core concepts like printing, variables, functions, loops, conditionals, and data structures (lists, dictionaries, arrays). I also explored advanced topics such as classes, oeprators, and importing libraries, while learning best practices around simplicity, security, and inclusive coding. \n",
    "Using Microsoft Copilot helped my learning by providing clear, step-by-step guidance and examples tailored to my level. It helped explain complex ideas in a beginner-friendly way and encouraged exploration through suggested prompts. Overall, Copilot was a useful tool for building my Python skills. \n"
   ]
  },
  {
   "cell_type": "markdown",
   "metadata": {},
   "source": [
    "# Step 3: Varying responses \n",
    "\n",
    "\n"
   ]
  },
  {
   "cell_type": "markdown",
   "metadata": {},
   "source": [
    "**Re-entering prompt #7**\n",
    "\n",
    "Original prompt response:"
   ]
  },
  {
   "cell_type": "code",
   "execution_count": null,
   "metadata": {},
   "outputs": [],
   "source": [
    "# Addition of numbers\n",
    "num1 = 5\n",
    "num2 = 10\n",
    "sum_result = num1 + num2\n",
    "print(f\"The sum of {num1} and {num2} is {sum_result}\")\n",
    "\n",
    "# Multiplication of numbers\n",
    "product_result = num1 * num2\n",
    "print(f\"The product of {num1} and {num2} is {product_result}\")\n",
    "\n",
    "# Addition of strings\n",
    "greeting1 = \"Hello, \"\n",
    "greeting2 = \"world!\"\n",
    "combined_greeting = greeting1 + greeting2\n",
    "print(combined_greeting)\n",
    "\n",
    "# Multiplication of strings\n",
    "repeat_greeting = greeting1 * 3\n",
    "print(repeat_greeting)"
   ]
  },
  {
   "cell_type": "markdown",
   "metadata": {},
   "source": [
    "New prompt reponse:"
   ]
  },
  {
   "cell_type": "code",
   "execution_count": null,
   "metadata": {},
   "outputs": [],
   "source": [
    "# Original \"Hello, world!\" program\n",
    "print(\"Hello, world!\")\n",
    "\n",
    "# Modified program to demonstrate operators\n",
    "# Addition with strings\n",
    "greeting = \"Hello, \" + \"world!\"\n",
    "print(greeting)\n",
    "\n",
    "# Addition with numbers\n",
    "num_sum = 5 + 3\n",
    "print(\"Sum of 5 and 3 is:\", num_sum)\n",
    "\n",
    "# Multiplication with strings\n",
    "repeat_greeting = \"Hello! \" * 3\n",
    "print(repeat_greeting)\n",
    "\n",
    "# Multiplication with numbers\n",
    "num_product = 4 * 2\n",
    "print(\"Product of 4 and 2 is:\", num_product)"
   ]
  },
  {
   "cell_type": "markdown",
   "metadata": {},
   "source": [
    "Step-by-Step Explanation\n",
    "1. Original \"Hello, world!\" program:"
   ]
  },
  {
   "cell_type": "code",
   "execution_count": null,
   "metadata": {},
   "outputs": [],
   "source": [
    "print(\"Hello, world!\")"
   ]
  },
  {
   "cell_type": "markdown",
   "metadata": {},
   "source": [
    "This line simply prints the string \"Hello, world!\" to the console.\n",
    "\n",
    "2. Addition with strings:"
   ]
  },
  {
   "cell_type": "code",
   "execution_count": null,
   "metadata": {},
   "outputs": [],
   "source": [
    "greeting = \"Hello, \" + \"world!\"\n",
    "print(greeting)"
   ]
  },
  {
   "cell_type": "markdown",
   "metadata": {},
   "source": [
    "- String Addition: The + operator concatenates (joins) two strings together. Here, \"Hello, \" and \"world!\" are combined to form \"Hello, world!\".\n",
    "- Print Statement: The print(greeting) line outputs the concatenated string.\n",
    "\n",
    "3. Addition with numbers:"
   ]
  },
  {
   "cell_type": "code",
   "execution_count": null,
   "metadata": {},
   "outputs": [],
   "source": [
    "num_sum = 5 + 3\n",
    "print(\"Sum of 5 and 3 is:\", num_sum)"
   ]
  },
  {
   "cell_type": "markdown",
   "metadata": {},
   "source": [
    "- Number Addition: The + operator adds two numbers together. Here, 5 + 3 results in 8.\n",
    "- Print Statement: The print(\"Sum of 5 and 3 is:\", num_sum) line outputs the result of the addition.\n",
    "\n",
    "4. Multiplication with strings"
   ]
  },
  {
   "cell_type": "code",
   "execution_count": null,
   "metadata": {},
   "outputs": [],
   "source": [
    "repeat_greeting = \"Hello! \" * 3\n",
    "print(repeat_greeting)"
   ]
  },
  {
   "cell_type": "markdown",
   "metadata": {},
   "source": [
    "- String Multiplication: The * operator repeats a string a specified number of times. Here, \"Hello! \" is repeated 3 times to form \"Hello! Hello! Hello! \".\n",
    "- Print Statement: The print(repeat_greeting) line outputs the repeated string.\n",
    "\n",
    "5. Multiplication with numbers:"
   ]
  },
  {
   "cell_type": "code",
   "execution_count": null,
   "metadata": {},
   "outputs": [],
   "source": [
    "num_product = 4 * 2\n",
    "print(\"Product of 4 and 2 is:\", num_product)"
   ]
  },
  {
   "cell_type": "markdown",
   "metadata": {},
   "source": [
    "- Number Multiplication: The * operator multiplies two numbers together. Here, 4 * 2 results in 8.\n",
    "- Print Statement: The print(\"Product of 4 and 2 is:\", num_product) line outputs the result of the multiplication.\n",
    "\n",
    "Key aspects\n",
    "- Operators: In Python, operators like + and * can be used with both strings and numbers, but they behave differently depending on the type of data they are used with.\n",
    "    - String Addition (+): Concatenates strings.\n",
    "    - Number Addition (+): Adds numbers.\n",
    "    - String Multiplication (*): Repeats strings.\n",
    "    - Number Multiplication (*): Multiplies numbers.\n",
    "    - This modified code and explanation should help a beginner understand how operators work with different types of data in Python\n",
    "\n",
    "\n",
    "**Breakdown of differences:**\n",
    "The response of this prompt differed from its first input. Rather than giving me a step-by-step jot note explaination, Copilot gave me a more explicit walkthrough of steps via code examples. I found this was a more useful response as Copilot provided a visual examples, that enable the user to grasp the concepts with ease. "
   ]
  },
  {
   "cell_type": "markdown",
   "metadata": {},
   "source": [
    "## Hierarichal Tree of Prompts for Learning Python Programming\n",
    "\n",
    "__________________________\n"
   ]
  },
  {
   "cell_type": "markdown",
   "metadata": {},
   "source": [
    "# Python Libraries (Task 1-7)\n"
   ]
  },
  {
   "cell_type": "markdown",
   "metadata": {},
   "source": [
    "# YouTube\n",
    "\n",
    "### Selected Video: **How AI Art Could Enhance Humanity's Collective Memory by Refik Anadol | TED Talk**\n",
    "\n",
    "### Why this Video was chosen\n",
    "This video was selected as it explores how artificial intelligence can contribute meaningfully to the arts and humanities by helping to presearve and extend human memory on the disappearing natural world. AI artist Refik Anadol and his team, work to feed AI with thousands of images and prompts to construct artistic visualizations of natural elements, including flowers and coral, that are beginning to disappear due to the growing destruction of nature, like the great barrier reefs due to climate change. The speaker investigates the potential of AI-generated art not as a replacement of human creativity, but as a tool to augment our understanding of history, identity, and expression. \n",
    "\n",
    "### Relevance to our Course \n",
    "This directly intertwines with the themes of 'Ai in Arts and Humanities' by:\n",
    "- **Bridging technology and culture** : Highlighing how machine learning models can reflect and reinterpret human narratives, a key concern in digital humanities.\n",
    "- **Addressing Ethical and Creative Questions** : The video raises questions about authorship, memory, and the evolving definition of artistic value in the age of AI.\n",
    "- **Critical Thinking in Human Culture** : Focsuing on AI's role in shaping and archiving cultural memory, it encourages reflection on how humanities scholars might work with AI as a partner rather than just a tool.  "
   ]
  },
  {
   "cell_type": "code",
   "execution_count": null,
   "metadata": {},
   "outputs": [],
   "source": [
    "from IPython.display import YouTubeVideo\n",
    "\n",
    "YouTubeVideo(\"iz7diOuaTos\")"
   ]
  },
  {
   "cell_type": "markdown",
   "metadata": {},
   "source": [
    "**License**: Creative Commons Attribution–NonCommercial–NoDerivatives (CC BY-NC-ND 4.0)"
   ]
  },
  {
   "cell_type": "markdown",
   "metadata": {},
   "source": [
    "# Embedding an Image"
   ]
  },
  {
   "cell_type": "code",
   "execution_count": null,
   "metadata": {},
   "outputs": [],
   "source": [
    "from IPython.display import Image\n",
    "\n",
    "Image(url=\"https://media.licdn.com/dms/image/v2/D4D12AQFcrxpuAdCKiA/article-cover_image-shrink_720_1280/article-cover_image-shrink_720_1280/0/1692173782031?e=1752105600&v=beta&t=rlMtEE5pvMxGZvXGp1ZIwXmVD9fEqaXzQLRnOVURjzo\")"
   ]
  },
  {
   "cell_type": "markdown",
   "metadata": {},
   "source": [
    "### Why this image\n",
    "\n",
    "This image visually represents the intersection of artificial intelligence and the arts and humanities. As an AI generated image, it symbolizes its advent in creative fields, while the human figure denotes humaity at the center of it all. These are central themes of the course. "
   ]
  },
  {
   "cell_type": "markdown",
   "metadata": {},
   "source": [
    "# Understanding Parsing and Reading\n",
    "\n",
    "In this section, key foundational programming concepts - namely importing libraries, defining variables, and outputting information using the print() function - have been introduced. These elements constitute essential building blocks for developing functionality in Python. The following program demonstrates their practical application. "
   ]
  },
  {
   "cell_type": "code",
   "execution_count": null,
   "metadata": {},
   "outputs": [],
   "source": [
    "import webbrowser # Library Import : allows Python to open URLs in defualt browser\n",
    "import requests # Library Import : lets Python send HTTP requests \n",
    "\n",
    "\n",
    "print(\"Shall we hunt down an old website?\") # Printed String #1 : introductory prompt\n",
    "\n",
    "# Variable 1: User input for website URL \n",
    "site = input(\"Type a website URL: \") # Printed String #2 : input prompt\n",
    "\n",
    "#Variable 2 : Asks user to input a date in the format YYYYMMDD\n",
    "era = input(\"Type year, month, and date, e.g., 20150613: \") # Printed string #3: input prompt\n",
    "\n",
    "# Variable 3 : Constructs the API URL for the Internet Archive Wayback Machine, inserting the user's input\n",
    "url =\"http://archive.org/wayback/available?url=%s&timestamp=%s\" % (site, era) \n",
    "\n",
    "# Variable 4 : Sends the GET request to the Wayback Machine API\n",
    "response = requests.get(url)\n",
    "\n",
    "# Variable 5 : Converts the JSON response into a Python dictionary\n",
    "data = response.json()  \n",
    "\n",
    "try:\n",
    "    # Variable 6 : extracts the archived URL from the dictionary \n",
    "    old_site = data[\"archived_snapshots\"][\"closest\"][\"url\"]\n",
    "\n",
    "    print(\"Found this copy: \", old_site) # Printed string #4: confirmation and URL \n",
    "    print(\"It should appear in your browser.\") # Printed string #5: instruction \n",
    "\n",
    "    webbrowser.open(old_site) # Opens the archived URL in the browser\n",
    "  \n",
    "except:\n",
    "    # Printed string #6: error message if no archive is found\n",
    "    print(\"Sorry, could not find the site.\")"
   ]
  }
 ],
 "metadata": {
  "kernelspec": {
   "display_name": "Python 3",
   "language": "python",
   "name": "python3"
  },
  "language_info": {
   "codemirror_mode": {
    "name": "ipython",
    "version": 3
   },
   "file_extension": ".py",
   "mimetype": "text/x-python",
   "name": "python",
   "nbconvert_exporter": "python",
   "pygments_lexer": "ipython3",
   "version": "3.12.1"
  }
 },
 "nbformat": 4,
 "nbformat_minor": 2
}
