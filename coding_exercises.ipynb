{
 "cells": [
  {
   "cell_type": "markdown",
   "metadata": {},
   "source": [
    "# AI for the Arts Coding Exercise\n",
    "\n",
    "The purpose of this repository is to provide clear and relevant info about the project\n",
    "\n",
    "* improve my skills\n",
    "* build more complex projects\n",
    "* learn additional coding languages\n"
   ]
  },
  {
   "cell_type": "markdown",
   "metadata": {},
   "source": [
    "# Hello World\n",
    "\n",
    "The following code was created as my first attempt at programming in this course. It is meant to help me understand how to write and run code in GitHub Codespaces. "
   ]
  },
  {
   "cell_type": "code",
   "execution_count": null,
   "metadata": {},
   "outputs": [],
   "source": [
    "print(\"Hello, World!\")"
   ]
  },
  {
   "cell_type": "markdown",
   "metadata": {},
   "source": [
    "# Microsoft Copilot\n",
    "\n",
    "### Prompt:\n",
    "***Could you suggest a python code for ‘Hello, world!’ to demonstrate the concept of printing to a complete beginner in programming? Please explain the code step-by-step highlighting any key aspects.**\n",
    "\n",
    "### Learning Outcomes\n",
    "\n",
    "1. Understanding Basic Syntax:\n",
    "\n",
    "- Function Usage: Learn how to use built-in functions like print.\n",
    "- String Definition: Understand how to define and use strings in Python.\n",
    "\n",
    "2. Introduction to Programming Concepts:\n",
    "\n",
    "- Functions: Get familiar with the concept of functions and how they work.\n",
    "- Arguments: Learn how to pass arguments to functions.\n",
    "\n",
    "3. Hands-on Experience:\n",
    "\n",
    "- Running Code: Gain practical experience by running the code and seeing the output.\n",
    "- Debugging: Learn to troubleshoot simple errors (e.g., missing quotes or parentheses).\n",
    "\n",
    "4. Syntax Familiarity:\n",
    "\n",
    "- Indentation: Understand the importance of indentation in Python (though not needed for this simple example).\n",
    "- Readability: Appreciate Python's readable and straightforward syntax.\n",
    "\n",
    "5. Confidence Building:\n",
    "\n",
    "- First Success: Experience the satisfaction of writing and executing your first piece of code, which can boost confidence and motivation to learn more."
   ]
  },
  {
   "cell_type": "code",
   "execution_count": null,
   "metadata": {},
   "outputs": [],
   "source": [
    "\n",
    "print(\"Hello, world!\")"
   ]
  },
  {
   "cell_type": "markdown",
   "metadata": {},
   "source": [
    "### Prompt:\n",
    "Write a function that prints my name and age.\n",
    "\n",
    "### Learning Outcome:\n",
    "I practiced using string formatting and learned how to include variables inside a print statement. "
   ]
  },
  {
   "cell_type": "code",
   "execution_count": null,
   "metadata": {},
   "outputs": [],
   "source": [
    "def print_info():\n",
    "    name = \"Sydney\"\n",
    "    age = 22\n",
    "    print(f\"My name is {Sydney} and I am {22} years old.\")\n",
    "\n",
    "print_info()"
   ]
  }
 ],
 "metadata": {
  "language_info": {
   "name": "python"
  }
 },
 "nbformat": 4,
 "nbformat_minor": 2
}
